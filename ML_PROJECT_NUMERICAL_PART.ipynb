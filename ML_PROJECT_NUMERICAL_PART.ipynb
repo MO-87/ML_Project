{
  "nbformat": 4,
  "nbformat_minor": 0,
  "metadata": {
    "colab": {
      "provenance": []
    },
    "kernelspec": {
      "name": "python3",
      "display_name": "Python 3"
    },
    "language_info": {
      "name": "python"
    }
  },
  "cells": [
    {
      "cell_type": "code",
      "execution_count": 81,
      "metadata": {
        "id": "BKU5LRfZRr_j"
      },
      "outputs": [],
      "source": [
        "import numpy as np\n",
        "import pandas as pd\n",
        "from sklearn.preprocessing import (StandardScaler, OneHotEncoder)\n",
        "from sklearn.model_selection import train_test_split\n",
        "from sklearn.impute import SimpleImputer\n",
        "from sklearn.linear_model import LinearRegression\n",
        "from sklearn.neighbors import KNeighborsRegressor\n",
        "from sklearn.metrics import (mean_absolute_error, mean_squared_error, r2_score)\n",
        "from warnings import filterwarnings\n",
        "import seaborn as sns\n",
        "import matplotlib.pyplot as plt\n",
        "from sklearn.preprocessing import MinMaxScaler\n",
        "\n",
        "filterwarnings(\"ignore\")\n",
        "pd.set_option('display.max_columns', None)"
      ]
    },
    {
      "cell_type": "code",
      "source": [
        "def nan_percentage_per_column(data):\n",
        "    return ((data.isna().sum() / data.shape[0]) * 100)\n",
        "\n",
        "\n",
        "def remove_harmful_columns(data): ## decided that any column has missing values more than 20% will be removed\n",
        "    nan_percentages = nan_percentage_per_column(data)\n",
        "    valid_columns = nan_percentages[nan_percentages <= 20].index\n",
        "    return data[valid_columns]"
      ],
      "metadata": {
        "id": "Tu7iZIY0cF6Q"
      },
      "execution_count": 51,
      "outputs": []
    },
    {
      "cell_type": "code",
      "source": [
        "def num_cols_info(data):\n",
        "    data = data.select_dtypes(include=['number'])\n",
        "\n",
        "    return data.describe()"
      ],
      "metadata": {
        "id": "Q-fwoZkzcOj9"
      },
      "execution_count": 52,
      "outputs": []
    },
    {
      "cell_type": "code",
      "source": [
        "def model_eval(model, y_true, data, data_type, model_type):\n",
        "    y_pred = model.predict(data)\n",
        "\n",
        "    MAE = mean_absolute_error(y_true, y_pred)\n",
        "    MSE = mean_squared_error(y_true, y_pred)\n",
        "    R2 = r2_score(y_true, y_pred)\n",
        "\n",
        "    print(f\"<{model_type} Model|{data_type} Data Evaluation>\\n\"\n",
        "            f\"Mean Absolute Error >> {MAE:.2f}\\n\"\n",
        "            f\"Mean Squared Error >> {MSE:.2f}\\n\"\n",
        "            f\"R-Squared Score >> {R2:.2f}\\n\\n\")\n",
        "\n",
        "    return MAE, MSE, R2"
      ],
      "metadata": {
        "id": "JAEn3R1qcRPt"
      },
      "execution_count": 83,
      "outputs": []
    },
    {
      "cell_type": "code",
      "source": [
        "def Linear_Regressor(X_train, y_train):\n",
        "    model = LinearRegression(fit_intercept=True)\n",
        "\n",
        "    model.fit(X_train, y_train)\n",
        "\n",
        "    return model\n",
        "\n",
        "\n",
        "def KNN_Regressor(X_train, y_train):\n",
        "    model = KNeighborsRegressor(n_neighbors=5)\n",
        "\n",
        "    model.fit(X_train, y_train)\n",
        "\n",
        "    return model"
      ],
      "metadata": {
        "id": "gY09EofKcUIx"
      },
      "execution_count": 54,
      "outputs": []
    },
    {
      "cell_type": "code",
      "source": [
        "def preprocess_data(X_train, X_test):\n",
        "    num_scaler = StandardScaler() ## [-1, 1] mean = 0 | var = 1\n",
        "    cat_scaler = OneHotEncoder(handle_unknown=\"ignore\", sparse_output=False)\n",
        "\n",
        "    num_data_cols = X_train.select_dtypes([\"number\"]).columns.to_list()\n",
        "    cat_data_cols = X_train.select_dtypes([\"object\"]).columns.to_list()\n",
        "\n",
        "    X_train[num_data_cols] = num_scaler.fit_transform(X_train[num_data_cols])\n",
        "    X_test[num_data_cols] = num_scaler.transform(X_test[num_data_cols])\n",
        "\n",
        "    X_train_encoded = pd.DataFrame(cat_scaler.fit_transform(X_train[cat_data_cols]),\n",
        "                                columns=cat_scaler.get_feature_names_out(cat_data_cols))\n",
        "\n",
        "    X_test_encoded = pd.DataFrame(cat_scaler.transform(X_test[cat_data_cols]),\n",
        "                                columns=cat_scaler.get_feature_names_out(cat_data_cols))\n",
        "\n",
        "    X_train = pd.concat([X_train[num_data_cols].reset_index(drop=True), X_train_encoded.reset_index(drop=True)], axis=1)\n",
        "    X_test = pd.concat([X_test[num_data_cols].reset_index(drop=True), X_test_encoded.reset_index(drop=True)], axis=1)\n",
        "\n",
        "    return X_train, X_test"
      ],
      "metadata": {
        "id": "s-ty870YcXBy"
      },
      "execution_count": 55,
      "outputs": []
    },
    {
      "cell_type": "code",
      "source": [
        "def fill_missing_values(data): ## done through sklearn imputing\n",
        "    num_imputer = SimpleImputer(strategy=\"mean\")\n",
        "    cat_imputer = SimpleImputer(strategy=\"most_frequent\")\n",
        "\n",
        "    num_data_cols = data.select_dtypes([\"number\"]).columns.to_list()\n",
        "    cat_data_cols = data.select_dtypes([\"object\"]).columns.to_list()\n",
        "\n",
        "    data[num_data_cols] = num_imputer.fit_transform(data[num_data_cols])\n",
        "    data[cat_data_cols] = cat_imputer.fit_transform(data[cat_data_cols])\n",
        "\n",
        "    return data"
      ],
      "metadata": {
        "id": "v8qXb4ulcZDB"
      },
      "execution_count": 56,
      "outputs": []
    },
    {
      "cell_type": "code",
      "source": [
        "def prepare_data(data):\n",
        "    y = data[[\"Customer_Satisfaction_After\"]]\n",
        "    X = data.drop(columns= [\"Customer_Satisfaction_After\"])\n",
        "\n",
        "    X_train, X_test, y_train, y_test = train_test_split(X, y,\n",
        "                                                        test_size=0.2,\n",
        "                                                        shuffle=True,\n",
        "                                                        random_state=42) ## set seed\n",
        "\n",
        "    return X_train, X_test, y_train, y_test"
      ],
      "metadata": {
        "id": "rWyBn3UXcbOB"
      },
      "execution_count": 57,
      "outputs": []
    },
    {
      "cell_type": "code",
      "source": [
        "def visualize_performance(LR_MAE, LR_MSE, LR_R2, KNN_MAE, KNN_MSE, KNN_R2, data_type):\n",
        "  models = ['Linear Regression', 'KNN Regressor']\n",
        "  metrics = ['MAE', 'MSE', 'R²']\n",
        "  data = np.array([\n",
        "      [LR_MAE, LR_MSE, LR_R2],\n",
        "      [KNN_MAE, KNN_MSE, KNN_R2],\n",
        "  ])\n",
        "\n",
        "  scaler = MinMaxScaler()\n",
        "  normalized_data = scaler.fit_transform(data)\n",
        "  normalized_data[:, :2] = 1 - normalized_data[:, :2]\n",
        "\n",
        "  plt.figure(figsize=(8, 6))\n",
        "  sns.heatmap(\n",
        "      normalized_data,\n",
        "      annot=data,\n",
        "      fmt=\".2f\",\n",
        "      cmap=\"coolwarm\",\n",
        "      xticklabels=metrics,\n",
        "      yticklabels=models,\n",
        "      cbar_kws={'label': 'Normalized Performance (0 to 1)'}\n",
        "  )\n",
        "\n",
        "  plt.title(f'Model Performance On {data_type}ing Heatmap (Normalized)', fontsize=14)\n",
        "  plt.xlabel('Metrics', fontsize=12)\n",
        "  plt.ylabel('Models', fontsize=12)\n",
        "  plt.tight_layout()\n",
        "  plt.show()\n",
        "\n",
        "  print(\"HOTTER IS BETTER !!\")"
      ],
      "metadata": {
        "id": "HV9t-oFtspLD"
      },
      "execution_count": 88,
      "outputs": []
    },
    {
      "cell_type": "code",
      "source": [
        "numerical_data = pd.read_csv(\"/content/drive/MyDrive/ML_PROJECT_DATA/Sales_with_NaNs_v1.3.csv\")\n",
        "numerical_data.head()"
      ],
      "metadata": {
        "colab": {
          "base_uri": "https://localhost:8080/",
          "height": 206
        },
        "id": "8L_s4-wtcdTa",
        "outputId": "3fa5aa67-67bd-44b3-ecba-839c9832dc1e"
      },
      "execution_count": 91,
      "outputs": [
        {
          "output_type": "execute_result",
          "data": {
            "text/plain": [
              "       Group Customer_Segment  Sales_Before  Sales_After  \\\n",
              "0    Control       High Value    240.548359   300.007568   \n",
              "1  Treatment       High Value    246.862114   381.337555   \n",
              "2    Control       High Value    156.978084   179.330464   \n",
              "3    Control     Medium Value    192.126708   229.278031   \n",
              "4        NaN       High Value    229.685623          NaN   \n",
              "\n",
              "   Customer_Satisfaction_Before  Customer_Satisfaction_After Purchase_Made  \n",
              "0                     74.684767                          NaN            No  \n",
              "1                    100.000000                   100.000000           Yes  \n",
              "2                     98.780735                   100.000000            No  \n",
              "3                     49.333766                    39.811841           Yes  \n",
              "4                     83.974852                    87.738591           Yes  "
            ],
            "text/html": [
              "\n",
              "  <div id=\"df-1d296a07-7c07-4935-be6c-b70cc1c1f695\" class=\"colab-df-container\">\n",
              "    <div>\n",
              "<style scoped>\n",
              "    .dataframe tbody tr th:only-of-type {\n",
              "        vertical-align: middle;\n",
              "    }\n",
              "\n",
              "    .dataframe tbody tr th {\n",
              "        vertical-align: top;\n",
              "    }\n",
              "\n",
              "    .dataframe thead th {\n",
              "        text-align: right;\n",
              "    }\n",
              "</style>\n",
              "<table border=\"1\" class=\"dataframe\">\n",
              "  <thead>\n",
              "    <tr style=\"text-align: right;\">\n",
              "      <th></th>\n",
              "      <th>Group</th>\n",
              "      <th>Customer_Segment</th>\n",
              "      <th>Sales_Before</th>\n",
              "      <th>Sales_After</th>\n",
              "      <th>Customer_Satisfaction_Before</th>\n",
              "      <th>Customer_Satisfaction_After</th>\n",
              "      <th>Purchase_Made</th>\n",
              "    </tr>\n",
              "  </thead>\n",
              "  <tbody>\n",
              "    <tr>\n",
              "      <th>0</th>\n",
              "      <td>Control</td>\n",
              "      <td>High Value</td>\n",
              "      <td>240.548359</td>\n",
              "      <td>300.007568</td>\n",
              "      <td>74.684767</td>\n",
              "      <td>NaN</td>\n",
              "      <td>No</td>\n",
              "    </tr>\n",
              "    <tr>\n",
              "      <th>1</th>\n",
              "      <td>Treatment</td>\n",
              "      <td>High Value</td>\n",
              "      <td>246.862114</td>\n",
              "      <td>381.337555</td>\n",
              "      <td>100.000000</td>\n",
              "      <td>100.000000</td>\n",
              "      <td>Yes</td>\n",
              "    </tr>\n",
              "    <tr>\n",
              "      <th>2</th>\n",
              "      <td>Control</td>\n",
              "      <td>High Value</td>\n",
              "      <td>156.978084</td>\n",
              "      <td>179.330464</td>\n",
              "      <td>98.780735</td>\n",
              "      <td>100.000000</td>\n",
              "      <td>No</td>\n",
              "    </tr>\n",
              "    <tr>\n",
              "      <th>3</th>\n",
              "      <td>Control</td>\n",
              "      <td>Medium Value</td>\n",
              "      <td>192.126708</td>\n",
              "      <td>229.278031</td>\n",
              "      <td>49.333766</td>\n",
              "      <td>39.811841</td>\n",
              "      <td>Yes</td>\n",
              "    </tr>\n",
              "    <tr>\n",
              "      <th>4</th>\n",
              "      <td>NaN</td>\n",
              "      <td>High Value</td>\n",
              "      <td>229.685623</td>\n",
              "      <td>NaN</td>\n",
              "      <td>83.974852</td>\n",
              "      <td>87.738591</td>\n",
              "      <td>Yes</td>\n",
              "    </tr>\n",
              "  </tbody>\n",
              "</table>\n",
              "</div>\n",
              "    <div class=\"colab-df-buttons\">\n",
              "\n",
              "  <div class=\"colab-df-container\">\n",
              "    <button class=\"colab-df-convert\" onclick=\"convertToInteractive('df-1d296a07-7c07-4935-be6c-b70cc1c1f695')\"\n",
              "            title=\"Convert this dataframe to an interactive table.\"\n",
              "            style=\"display:none;\">\n",
              "\n",
              "  <svg xmlns=\"http://www.w3.org/2000/svg\" height=\"24px\" viewBox=\"0 -960 960 960\">\n",
              "    <path d=\"M120-120v-720h720v720H120Zm60-500h600v-160H180v160Zm220 220h160v-160H400v160Zm0 220h160v-160H400v160ZM180-400h160v-160H180v160Zm440 0h160v-160H620v160ZM180-180h160v-160H180v160Zm440 0h160v-160H620v160Z\"/>\n",
              "  </svg>\n",
              "    </button>\n",
              "\n",
              "  <style>\n",
              "    .colab-df-container {\n",
              "      display:flex;\n",
              "      gap: 12px;\n",
              "    }\n",
              "\n",
              "    .colab-df-convert {\n",
              "      background-color: #E8F0FE;\n",
              "      border: none;\n",
              "      border-radius: 50%;\n",
              "      cursor: pointer;\n",
              "      display: none;\n",
              "      fill: #1967D2;\n",
              "      height: 32px;\n",
              "      padding: 0 0 0 0;\n",
              "      width: 32px;\n",
              "    }\n",
              "\n",
              "    .colab-df-convert:hover {\n",
              "      background-color: #E2EBFA;\n",
              "      box-shadow: 0px 1px 2px rgba(60, 64, 67, 0.3), 0px 1px 3px 1px rgba(60, 64, 67, 0.15);\n",
              "      fill: #174EA6;\n",
              "    }\n",
              "\n",
              "    .colab-df-buttons div {\n",
              "      margin-bottom: 4px;\n",
              "    }\n",
              "\n",
              "    [theme=dark] .colab-df-convert {\n",
              "      background-color: #3B4455;\n",
              "      fill: #D2E3FC;\n",
              "    }\n",
              "\n",
              "    [theme=dark] .colab-df-convert:hover {\n",
              "      background-color: #434B5C;\n",
              "      box-shadow: 0px 1px 3px 1px rgba(0, 0, 0, 0.15);\n",
              "      filter: drop-shadow(0px 1px 2px rgba(0, 0, 0, 0.3));\n",
              "      fill: #FFFFFF;\n",
              "    }\n",
              "  </style>\n",
              "\n",
              "    <script>\n",
              "      const buttonEl =\n",
              "        document.querySelector('#df-1d296a07-7c07-4935-be6c-b70cc1c1f695 button.colab-df-convert');\n",
              "      buttonEl.style.display =\n",
              "        google.colab.kernel.accessAllowed ? 'block' : 'none';\n",
              "\n",
              "      async function convertToInteractive(key) {\n",
              "        const element = document.querySelector('#df-1d296a07-7c07-4935-be6c-b70cc1c1f695');\n",
              "        const dataTable =\n",
              "          await google.colab.kernel.invokeFunction('convertToInteractive',\n",
              "                                                    [key], {});\n",
              "        if (!dataTable) return;\n",
              "\n",
              "        const docLinkHtml = 'Like what you see? Visit the ' +\n",
              "          '<a target=\"_blank\" href=https://colab.research.google.com/notebooks/data_table.ipynb>data table notebook</a>'\n",
              "          + ' to learn more about interactive tables.';\n",
              "        element.innerHTML = '';\n",
              "        dataTable['output_type'] = 'display_data';\n",
              "        await google.colab.output.renderOutput(dataTable, element);\n",
              "        const docLink = document.createElement('div');\n",
              "        docLink.innerHTML = docLinkHtml;\n",
              "        element.appendChild(docLink);\n",
              "      }\n",
              "    </script>\n",
              "  </div>\n",
              "\n",
              "\n",
              "<div id=\"df-9cdee62f-c387-448b-bfbe-48f609dd5adf\">\n",
              "  <button class=\"colab-df-quickchart\" onclick=\"quickchart('df-9cdee62f-c387-448b-bfbe-48f609dd5adf')\"\n",
              "            title=\"Suggest charts\"\n",
              "            style=\"display:none;\">\n",
              "\n",
              "<svg xmlns=\"http://www.w3.org/2000/svg\" height=\"24px\"viewBox=\"0 0 24 24\"\n",
              "     width=\"24px\">\n",
              "    <g>\n",
              "        <path d=\"M19 3H5c-1.1 0-2 .9-2 2v14c0 1.1.9 2 2 2h14c1.1 0 2-.9 2-2V5c0-1.1-.9-2-2-2zM9 17H7v-7h2v7zm4 0h-2V7h2v10zm4 0h-2v-4h2v4z\"/>\n",
              "    </g>\n",
              "</svg>\n",
              "  </button>\n",
              "\n",
              "<style>\n",
              "  .colab-df-quickchart {\n",
              "      --bg-color: #E8F0FE;\n",
              "      --fill-color: #1967D2;\n",
              "      --hover-bg-color: #E2EBFA;\n",
              "      --hover-fill-color: #174EA6;\n",
              "      --disabled-fill-color: #AAA;\n",
              "      --disabled-bg-color: #DDD;\n",
              "  }\n",
              "\n",
              "  [theme=dark] .colab-df-quickchart {\n",
              "      --bg-color: #3B4455;\n",
              "      --fill-color: #D2E3FC;\n",
              "      --hover-bg-color: #434B5C;\n",
              "      --hover-fill-color: #FFFFFF;\n",
              "      --disabled-bg-color: #3B4455;\n",
              "      --disabled-fill-color: #666;\n",
              "  }\n",
              "\n",
              "  .colab-df-quickchart {\n",
              "    background-color: var(--bg-color);\n",
              "    border: none;\n",
              "    border-radius: 50%;\n",
              "    cursor: pointer;\n",
              "    display: none;\n",
              "    fill: var(--fill-color);\n",
              "    height: 32px;\n",
              "    padding: 0;\n",
              "    width: 32px;\n",
              "  }\n",
              "\n",
              "  .colab-df-quickchart:hover {\n",
              "    background-color: var(--hover-bg-color);\n",
              "    box-shadow: 0 1px 2px rgba(60, 64, 67, 0.3), 0 1px 3px 1px rgba(60, 64, 67, 0.15);\n",
              "    fill: var(--button-hover-fill-color);\n",
              "  }\n",
              "\n",
              "  .colab-df-quickchart-complete:disabled,\n",
              "  .colab-df-quickchart-complete:disabled:hover {\n",
              "    background-color: var(--disabled-bg-color);\n",
              "    fill: var(--disabled-fill-color);\n",
              "    box-shadow: none;\n",
              "  }\n",
              "\n",
              "  .colab-df-spinner {\n",
              "    border: 2px solid var(--fill-color);\n",
              "    border-color: transparent;\n",
              "    border-bottom-color: var(--fill-color);\n",
              "    animation:\n",
              "      spin 1s steps(1) infinite;\n",
              "  }\n",
              "\n",
              "  @keyframes spin {\n",
              "    0% {\n",
              "      border-color: transparent;\n",
              "      border-bottom-color: var(--fill-color);\n",
              "      border-left-color: var(--fill-color);\n",
              "    }\n",
              "    20% {\n",
              "      border-color: transparent;\n",
              "      border-left-color: var(--fill-color);\n",
              "      border-top-color: var(--fill-color);\n",
              "    }\n",
              "    30% {\n",
              "      border-color: transparent;\n",
              "      border-left-color: var(--fill-color);\n",
              "      border-top-color: var(--fill-color);\n",
              "      border-right-color: var(--fill-color);\n",
              "    }\n",
              "    40% {\n",
              "      border-color: transparent;\n",
              "      border-right-color: var(--fill-color);\n",
              "      border-top-color: var(--fill-color);\n",
              "    }\n",
              "    60% {\n",
              "      border-color: transparent;\n",
              "      border-right-color: var(--fill-color);\n",
              "    }\n",
              "    80% {\n",
              "      border-color: transparent;\n",
              "      border-right-color: var(--fill-color);\n",
              "      border-bottom-color: var(--fill-color);\n",
              "    }\n",
              "    90% {\n",
              "      border-color: transparent;\n",
              "      border-bottom-color: var(--fill-color);\n",
              "    }\n",
              "  }\n",
              "</style>\n",
              "\n",
              "  <script>\n",
              "    async function quickchart(key) {\n",
              "      const quickchartButtonEl =\n",
              "        document.querySelector('#' + key + ' button');\n",
              "      quickchartButtonEl.disabled = true;  // To prevent multiple clicks.\n",
              "      quickchartButtonEl.classList.add('colab-df-spinner');\n",
              "      try {\n",
              "        const charts = await google.colab.kernel.invokeFunction(\n",
              "            'suggestCharts', [key], {});\n",
              "      } catch (error) {\n",
              "        console.error('Error during call to suggestCharts:', error);\n",
              "      }\n",
              "      quickchartButtonEl.classList.remove('colab-df-spinner');\n",
              "      quickchartButtonEl.classList.add('colab-df-quickchart-complete');\n",
              "    }\n",
              "    (() => {\n",
              "      let quickchartButtonEl =\n",
              "        document.querySelector('#df-9cdee62f-c387-448b-bfbe-48f609dd5adf button');\n",
              "      quickchartButtonEl.style.display =\n",
              "        google.colab.kernel.accessAllowed ? 'block' : 'none';\n",
              "    })();\n",
              "  </script>\n",
              "</div>\n",
              "\n",
              "    </div>\n",
              "  </div>\n"
            ],
            "application/vnd.google.colaboratory.intrinsic+json": {
              "type": "dataframe",
              "variable_name": "numerical_data",
              "summary": "{\n  \"name\": \"numerical_data\",\n  \"rows\": 10000,\n  \"fields\": [\n    {\n      \"column\": \"Group\",\n      \"properties\": {\n        \"dtype\": \"category\",\n        \"num_unique_values\": 2,\n        \"samples\": [\n          \"Treatment\",\n          \"Control\"\n        ],\n        \"semantic_type\": \"\",\n        \"description\": \"\"\n      }\n    },\n    {\n      \"column\": \"Customer_Segment\",\n      \"properties\": {\n        \"dtype\": \"category\",\n        \"num_unique_values\": 3,\n        \"samples\": [\n          \"High Value\",\n          \"Medium Value\"\n        ],\n        \"semantic_type\": \"\",\n        \"description\": \"\"\n      }\n    },\n    {\n      \"column\": \"Sales_Before\",\n      \"properties\": {\n        \"dtype\": \"number\",\n        \"std\": 55.2730586167697,\n        \"min\": 24.85296575372195,\n        \"max\": 545.4225471380589,\n        \"num_unique_values\": 8388,\n        \"samples\": [\n          192.13781123455823,\n          160.05326644807778\n        ],\n        \"semantic_type\": \"\",\n        \"description\": \"\"\n      }\n    },\n    {\n      \"column\": \"Sales_After\",\n      \"properties\": {\n        \"dtype\": \"number\",\n        \"std\": 85.6595430021653,\n        \"min\": 32.414352282538246,\n        \"max\": 818.2199974644652,\n        \"num_unique_values\": 9143,\n        \"samples\": [\n          300.8690456852238,\n          167.00292412388308\n        ],\n        \"semantic_type\": \"\",\n        \"description\": \"\"\n      }\n    },\n    {\n      \"column\": \"Customer_Satisfaction_Before\",\n      \"properties\": {\n        \"dtype\": \"number\",\n        \"std\": 16.957009871786727,\n        \"min\": 22.2024412848934,\n        \"max\": 100.0,\n        \"num_unique_values\": 7731,\n        \"samples\": [\n          44.86552129946583,\n          92.45799239725056\n        ],\n        \"semantic_type\": \"\",\n        \"description\": \"\"\n      }\n    },\n    {\n      \"column\": \"Customer_Satisfaction_After\",\n      \"properties\": {\n        \"dtype\": \"number\",\n        \"std\": 18.12835100570318,\n        \"min\": 18.22493782523264,\n        \"max\": 100.0,\n        \"num_unique_values\": 7033,\n        \"samples\": [\n          98.3655144196224,\n          67.77779878665486\n        ],\n        \"semantic_type\": \"\",\n        \"description\": \"\"\n      }\n    },\n    {\n      \"column\": \"Purchase_Made\",\n      \"properties\": {\n        \"dtype\": \"category\",\n        \"num_unique_values\": 2,\n        \"samples\": [\n          \"Yes\",\n          \"No\"\n        ],\n        \"semantic_type\": \"\",\n        \"description\": \"\"\n      }\n    }\n  ]\n}"
            }
          },
          "metadata": {},
          "execution_count": 91
        }
      ]
    },
    {
      "cell_type": "code",
      "source": [
        "has_duplicates = numerical_data.duplicated().any()"
      ],
      "metadata": {
        "id": "q3T71X2AcmBd"
      },
      "execution_count": 92,
      "outputs": []
    },
    {
      "cell_type": "code",
      "source": [
        "print(\"Dataset Shape: \", numerical_data.shape)\n",
        "print(\"Contains duplicates: \", has_duplicates)\n",
        "print(\"Number of NAN vlaues:\\n\", numerical_data.isna().sum())"
      ],
      "metadata": {
        "colab": {
          "base_uri": "https://localhost:8080/"
        },
        "id": "H2t6XxgfdBpc",
        "outputId": "88aa1de3-10d5-4e7c-eca0-b3b2eccd2375"
      },
      "execution_count": 93,
      "outputs": [
        {
          "output_type": "stream",
          "name": "stdout",
          "text": [
            "Dataset Shape:  (10000, 7)\n",
            "Contains duplicates:  False\n",
            "Number of NAN vlaues:\n",
            " Group                           1401\n",
            "Customer_Segment                1966\n",
            "Sales_Before                    1522\n",
            "Sales_After                      767\n",
            "Customer_Satisfaction_Before    1670\n",
            "Customer_Satisfaction_After     1640\n",
            "Purchase_Made                    805\n",
            "dtype: int64\n"
          ]
        }
      ]
    },
    {
      "cell_type": "code",
      "source": [
        "# numerical_data = remove_harmful_columns(numerical_data)\n",
        "numerical_data = fill_missing_values(numerical_data)"
      ],
      "metadata": {
        "id": "Iq0Ddps_dIXc"
      },
      "execution_count": 94,
      "outputs": []
    },
    {
      "cell_type": "code",
      "source": [
        "print(\"Number of NAN vlaues:\\n\", numerical_data.isna().sum())"
      ],
      "metadata": {
        "colab": {
          "base_uri": "https://localhost:8080/"
        },
        "id": "IC3H60STdPrp",
        "outputId": "5ff91693-cbdb-4120-d68a-6bc5f23514eb"
      },
      "execution_count": 95,
      "outputs": [
        {
          "output_type": "stream",
          "name": "stdout",
          "text": [
            "Number of NAN vlaues:\n",
            " Group                           0\n",
            "Customer_Segment                0\n",
            "Sales_Before                    0\n",
            "Sales_After                     0\n",
            "Customer_Satisfaction_Before    0\n",
            "Customer_Satisfaction_After     0\n",
            "Purchase_Made                   0\n",
            "dtype: int64\n"
          ]
        }
      ]
    },
    {
      "cell_type": "code",
      "source": [
        "X_train, X_test, y_train, y_test = prepare_data(numerical_data)\n",
        "\n",
        "X_train.shape, X_test.shape, y_train.shape, y_test.shape"
      ],
      "metadata": {
        "colab": {
          "base_uri": "https://localhost:8080/"
        },
        "id": "wJnyhra0e7ob",
        "outputId": "f931bc87-f3f1-4937-ea19-7eab76ad1de8"
      },
      "execution_count": 96,
      "outputs": [
        {
          "output_type": "execute_result",
          "data": {
            "text/plain": [
              "((8000, 6), (2000, 6), (8000, 1), (2000, 1))"
            ]
          },
          "metadata": {},
          "execution_count": 96
        }
      ]
    },
    {
      "cell_type": "code",
      "source": [
        "X_train, X_test = preprocess_data(X_train, X_test)\n",
        "\n",
        "print(\"Columns before preprocessing: \", numerical_data.columns.tolist())\n",
        "print(\"Columns after preprocessing: \", X_train.columns.tolist() + y_train.columns.tolist())"
      ],
      "metadata": {
        "colab": {
          "base_uri": "https://localhost:8080/"
        },
        "id": "QBY0Ci4xgVGk",
        "outputId": "94810580-0aa5-41b5-b5b2-f1aa5a2a8c56"
      },
      "execution_count": 97,
      "outputs": [
        {
          "output_type": "stream",
          "name": "stdout",
          "text": [
            "Columns before preprocessing:  ['Group', 'Customer_Segment', 'Sales_Before', 'Sales_After', 'Customer_Satisfaction_Before', 'Customer_Satisfaction_After', 'Purchase_Made']\n",
            "Columns after preprocessing:  ['Sales_Before', 'Sales_After', 'Customer_Satisfaction_Before', 'Group_Control', 'Group_Treatment', 'Customer_Segment_High Value', 'Customer_Segment_Low Value', 'Customer_Segment_Medium Value', 'Purchase_Made_No', 'Purchase_Made_Yes', 'Customer_Satisfaction_After']\n"
          ]
        }
      ]
    },
    {
      "cell_type": "code",
      "source": [
        "X_train.shape, X_test.shape, y_train.shape, y_test.shape"
      ],
      "metadata": {
        "colab": {
          "base_uri": "https://localhost:8080/"
        },
        "id": "HDGHmlx1ghek",
        "outputId": "68168ffb-824d-44a2-b9b6-fa59608c5e33"
      },
      "execution_count": 98,
      "outputs": [
        {
          "output_type": "execute_result",
          "data": {
            "text/plain": [
              "((8000, 10), (2000, 10), (8000, 1), (2000, 1))"
            ]
          },
          "metadata": {},
          "execution_count": 98
        }
      ]
    },
    {
      "cell_type": "code",
      "source": [
        "LR_model = Linear_Regressor(X_train, y_train)\n",
        "KNN_model = KNN_Regressor(X_train, y_train)"
      ],
      "metadata": {
        "id": "YM6sm3bKhHTa"
      },
      "execution_count": 99,
      "outputs": []
    },
    {
      "cell_type": "code",
      "source": [
        "LR_MAE, LR_MSE, LR_R2 = model_eval(LR_model, y_train, X_train, \"Train\", \"Linear Regression\")\n",
        "KNN_MAE, KNN_MSE, KNN_R2 = model_eval(KNN_model, y_train, X_train, \"Train\", \"KNN Regressor\")"
      ],
      "metadata": {
        "colab": {
          "base_uri": "https://localhost:8080/"
        },
        "id": "-shsCpkAjLHa",
        "outputId": "1782fb27-9308-4bdb-930b-b0c922702365"
      },
      "execution_count": 100,
      "outputs": [
        {
          "output_type": "stream",
          "name": "stdout",
          "text": [
            "<Linear Regression Model|Train Data Evaluation>\n",
            "Mean Absolute Error >> 9.13\n",
            "Mean Squared Error >> 134.46\n",
            "R-Squared Score >> 0.51\n",
            "\n",
            "\n",
            "<KNN Regressor Model|Train Data Evaluation>\n",
            "Mean Absolute Error >> 8.04\n",
            "Mean Squared Error >> 102.91\n",
            "R-Squared Score >> 0.62\n",
            "\n",
            "\n"
          ]
        }
      ]
    },
    {
      "cell_type": "code",
      "source": [
        "visualize_performance(LR_MAE, LR_MSE, LR_R2, KNN_MAE, KNN_MSE, KNN_R2, \"Train\")"
      ],
      "metadata": {
        "colab": {
          "base_uri": "https://localhost:8080/",
          "height": 624
        },
        "id": "D5WrdGG2tTF3",
        "outputId": "e3a7e54c-bb82-4d86-8d80-a5971a64e119"
      },
      "execution_count": 101,
      "outputs": [
        {
          "output_type": "display_data",
          "data": {
            "text/plain": [
              "<Figure size 800x600 with 2 Axes>"
            ],
            "image/png": "[encoded data removed]"
          },
          "metadata": {}
        },
        {
          "output_type": "stream",
          "name": "stdout",
          "text": [
            "HOTTER IS BETTER !!\n"
          ]
        }
      ]
    },
    {
      "cell_type": "code",
      "source": [
        "LR_MAE, LR_MSE, LR_R2 = model_eval(LR_model, y_test, X_test, \"Test\", \"Linear Regression\")\n",
        "KNN_MAE, KNN_MSE, KNN_R2 = model_eval(KNN_model, y_test, X_test, \"Test\", \"KNN Regressor\")"
      ],
      "metadata": {
        "colab": {
          "base_uri": "https://localhost:8080/"
        },
        "id": "W0SLq0oUjaKM",
        "outputId": "e6537bd3-2615-416a-a38c-f407311a3db9"
      },
      "execution_count": 102,
      "outputs": [
        {
          "output_type": "stream",
          "name": "stdout",
          "text": [
            "<Linear Regression Model|Test Data Evaluation>\n",
            "Mean Absolute Error >> 9.47\n",
            "Mean Squared Error >> 145.40\n",
            "R-Squared Score >> 0.48\n",
            "\n",
            "\n",
            "<KNN Regressor Model|Test Data Evaluation>\n",
            "Mean Absolute Error >> 10.16\n",
            "Mean Squared Error >> 164.94\n",
            "R-Squared Score >> 0.41\n",
            "\n",
            "\n"
          ]
        }
      ]
    },
    {
      "cell_type": "code",
      "source": [
        "visualize_performance(LR_MAE, LR_MSE, LR_R2, KNN_MAE, KNN_MSE, KNN_R2, \"Test\")"
      ],
      "metadata": {
        "colab": {
          "base_uri": "https://localhost:8080/",
          "height": 624
        },
        "id": "jOATDJ1CrTvs",
        "outputId": "8bbc4f37-6ef0-4b23-82fa-2b64e82a39ee"
      },
      "execution_count": 103,
      "outputs": [
        {
          "output_type": "display_data",
          "data": {
            "text/plain": [
              "<Figure size 800x600 with 2 Axes>"
            ],
            "image/png": "[encoded data removed]"
          },
          "metadata": {}
        },
        {
          "output_type": "stream",
          "name": "stdout",
          "text": [
            "HOTTER IS BETTER !!\n"
          ]
        }
      ]
    }
  ]
}